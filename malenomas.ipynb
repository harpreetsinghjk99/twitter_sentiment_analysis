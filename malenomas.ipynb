{
  "nbformat": 4,
  "nbformat_minor": 0,
  "metadata": {
    "colab": {
      "name": "malenomas.ipynb",
      "provenance": [],
      "authorship_tag": "ABX9TyPlUcPRfHRSHbsQUKwN08VY",
      "include_colab_link": true
    },
    "kernelspec": {
      "name": "python3",
      "display_name": "Python 3"
    }
  },
  "cells": [
    {
      "cell_type": "markdown",
      "metadata": {
        "id": "view-in-github",
        "colab_type": "text"
      },
      "source": [
        "<a href=\"https://colab.research.google.com/github/harpreetsinghjk99/twitter_sentiment_analysis/blob/master/malenomas.ipynb\" target=\"_parent\"><img src=\"https://colab.research.google.com/assets/colab-badge.svg\" alt=\"Open In Colab\"/></a>"
      ]
    },
    {
      "cell_type": "code",
      "metadata": {
        "id": "SPSa1W7YNzVE",
        "colab_type": "code",
        "colab": {}
      },
      "source": [
        "import re\n"
      ],
      "execution_count": 2,
      "outputs": []
    },
    {
      "cell_type": "markdown",
      "metadata": {
        "id": "8Xg2kwYBwvU1",
        "colab_type": "text"
      },
      "source": [
        "textPlease contact us at contact@tutorialspoint.com for further information. se18 8xl\"+\\         \" You can also give feedbacl at feedback@tp.com\n",
        "al10 9ab"
      ]
    },
    {
      "cell_type": "code",
      "metadata": {
        "id": "JDxg-9pIfiOS",
        "colab_type": "code",
        "colab": {}
      },
      "source": [
        "text=\"textPlease contact us at contact@tutorialspoint.com for further information. se18 8xl You can N1 2ak also give n9 1ss feedbacl at feedback@tp.com al10 9ab\""
      ],
      "execution_count": 49,
      "outputs": []
    },
    {
      "cell_type": "code",
      "metadata": {
        "id": "f-Wd-p66fRf_",
        "colab_type": "code",
        "colab": {}
      },
      "source": [
        "emails = re.findall(r\"[a-z0-9\\.\\-+_]+@[a-z0-9\\.\\-+_]+\\.[a-z]+\", text)\n",
        "postcode=re.findall(r\"\\b(?:[A-Za-z][A-HJ-Ya-hj-y]?[0-9][0-9A-Za-z]? [0-9][A-Za-z]{2}|[Gg][Ii][Rr] 0[Aa]{2})\\b\", text)"
      ],
      "execution_count": 50,
      "outputs": []
    },
    {
      "cell_type": "code",
      "metadata": {
        "id": "ZNsHHUPUftm1",
        "colab_type": "code",
        "colab": {
          "base_uri": "https://localhost:8080/",
          "height": 34
        },
        "outputId": "61bafc39-d896-4ede-dd70-614a105b072e"
      },
      "source": [
        "print(emails,\"-----\",(postcode))"
      ],
      "execution_count": 55,
      "outputs": [
        {
          "output_type": "stream",
          "text": [
            "['contact@tutorialspoint.com', 'feedback@tp.com'] ----- ['se18 8xl', 'N1 2ak', 'n9 1ss', 'al10 9ab']\n"
          ],
          "name": "stdout"
        }
      ]
    }
  ]
}