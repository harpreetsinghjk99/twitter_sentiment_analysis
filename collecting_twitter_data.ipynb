{
 "cells": [
  {
   "cell_type": "code",
   "execution_count": null,
   "metadata": {},
   "outputs": [],
   "source": [
    "import re \n",
    "text=\"He was carefully disguised but captured quickly by police.\"\n",
    "re.findall(r\"\\w+ly\", text)"
   ]
  },
  {
   "cell_type": "code",
   "execution_count": null,
   "metadata": {},
   "outputs": [],
   "source": [
    "import tweepy\n",
    "consumer_key='T4WpXGpbxSsorbvYpOqlcCCfz'\n",
    "consumer_secret='iFiBtq5SOk5A38OieD5SaiSuTFpswTfg961p6qIsucZV5S9Hd8'\n",
    "\n",
    "access_token= '2608886166-RFTuj7SriLfpJzILmqblrTbsyFFvff5BJXSGzxg'\n",
    "access_token_secret= 'WitA6mQoCFZxav5fPutAqefveESdx7bG0BgPViqp1Nfk9'\n",
    "\n",
    "\n",
    "auth=tweepy.OAuthHandler(consumer_key,consumer_secret)\n",
    "auth.set_access_token(access_token, access_token_secret)\n",
    "\n",
    "api=tweepy.API(auth)\n",
    "\n",
    "public_tweets=api.user_timeline()\n",
    "positive_tweets=tweepy.Cursor(api.search, q=':) OR :-) - filter:retweets', result_type=\"recent\",tweet_mode='extended',lang='en',include_rts=False).items(10000)\n",
    "\n",
    "\n",
    "with open(\"positiveTweet_2nd.txt\",\"wb\") as txtfile:\n",
    "    for tweet in positive_tweets:\n",
    "        twt=tweet.full_text.encode('utf-8')\n",
    "        twt=twt.replace(b'\\n', b' ')\n",
    "\n",
    "        try:\n",
    "            \n",
    "            txtfile.write(twt+b'\\n')\n",
    "        except:\n",
    "            print(\"tweet not got\")\n",
    "print ('hi')"
   ]
  },
  {
   "cell_type": "code",
   "execution_count": null,
   "metadata": {},
   "outputs": [],
   "source": []
  },
  {
   "cell_type": "code",
   "execution_count": null,
   "metadata": {},
   "outputs": [],
   "source": [
    "print(positive_tweets)\n"
   ]
  }
 ],
 "metadata": {
  "kernelspec": {
   "display_name": "Python 3",
   "language": "python",
   "name": "python3"
  },
  "language_info": {
   "codemirror_mode": {
    "name": "ipython",
    "version": 3
   },
   "file_extension": ".py",
   "mimetype": "text/x-python",
   "name": "python",
   "nbconvert_exporter": "python",
   "pygments_lexer": "ipython3",
   "version": "3.7.3"
  }
 },
 "nbformat": 4,
 "nbformat_minor": 2
}
