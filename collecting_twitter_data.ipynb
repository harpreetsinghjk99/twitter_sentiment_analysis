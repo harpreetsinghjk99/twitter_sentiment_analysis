{
 "cells": [
  {
   "cell_type": "code",
   "execution_count": null,
   "metadata": {},
   "outputs": [],
   "source": [
    "import re \n",
    "text=\"He was carefully disguised but captured quickly by police.\"\n",
    "re.findall(r\"\\w+ly\", text)"
   ]
  },
  {
   "cell_type": "code",
   "execution_count": null,
   "metadata": {},
   "outputs": [],
   "source": [
    "import tweepy\n",
    "consumer_key='xxxxxxxxxxxxxxxxxxxxxxxxxxxxxx",
    "consumer_secret='xxxxxxxxxxxxxxxxxxxxxxxxxxxxxx",
    "\n",
    "access_token= 'xxxxxxxxxxxxxxxxxxxxxxxxxxxxxx",
    "access_token_secret= 'xxxxxxxxxxxxxxxxxxxxxxxxxxxxxxx'\n",
    "\n",
    "\n",
    "auth=tweepy.OAuthHandler(consumer_key,consumer_secret)\n",
    "auth.set_access_token(access_token, access_token_secret)\n",
    "\n",
    "api=tweepy.API(auth)\n",
    "\n",
    "public_tweets=api.user_timeline()\n",
    "positive_tweets=tweepy.Cursor(api.search, q=':) OR :-) - filter:retweets', result_type=\"recent\",tweet_mode='extended',lang='en',include_rts=False).items(10000)\n",
    "\n",
    "\n",
    "with open(\"positiveTweet_2nd.txt\",\"wb\") as txtfile:\n",
    "    for tweet in positive_tweets:\n",
    "        twt=tweet.full_text.encode('utf-8')\n",
    "        twt=twt.replace(b'\\n', b' ')\n",
    "\n",
    "        try:\n",
    "            \n",
    "            txtfile.write(twt+b'\\n')\n",
    "        except:\n",
    "            print(\"tweet not got\")\n",
    "print ('hi')"
   ]
  },
  {
   "cell_type": "code",
   "execution_count": null,
   "metadata": {},
   "outputs": [],
   "source": []
  },
  {
   "cell_type": "code",
   "execution_count": null,
   "metadata": {},
   "outputs": [],
   "source": [
    "print(positive_tweets)\n"
   ]
  }
 ],
 "metadata": {
  "kernelspec": {
   "display_name": "Python 3",
   "language": "python",
   "name": "python3"
  },
  "language_info": {
   "codemirror_mode": {
    "name": "ipython",
    "version": 3
   },
   "file_extension": ".py",
   "mimetype": "text/x-python",
   "name": "python",
   "nbconvert_exporter": "python",
   "pygments_lexer": "ipython3",
   "version": "3.7.3"
  }
 },
 "nbformat": 4,
 "nbformat_minor": 2
}
