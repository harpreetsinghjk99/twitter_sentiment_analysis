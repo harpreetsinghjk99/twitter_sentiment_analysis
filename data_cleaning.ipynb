{
 "cells": [
  {
   "cell_type": "code",
   "execution_count": 2,
   "metadata": {
    "scrolled": true
   },
   "outputs": [
    {
     "data": {
      "text/plain": [
       "'print(cnt)\\nprint(len(clean_tweet_list))'"
      ]
     },
     "execution_count": 2,
     "metadata": {},
     "output_type": "execute_result"
    }
   ],
   "source": [
    "import re\n",
    "from bs4 import BeautifulSoup\n",
    "from nltk.tokenize import WordPunctTokenizer\n",
    "tok = WordPunctTokenizer()\n",
    "\n",
    "www_pat = r'www.[^ ]+'\n",
    "combined_pat = r'|'.join((r'@[A-Za-z0-9_]+',r'https?://[^ ]+',r'#[A-Za-z0-9_]+'))\n",
    "\n",
    "#tweet= open(r\"C:\\Users\\Angrej\\tweet2600.txt\",'rb')\n",
    "def clean_tweet(text):\n",
    "    bs_parsed_text = BeautifulSoup(text, 'lxml')\n",
    "    bs_text = bs_parsed_text.get_text()\n",
    "    try:\n",
    "        modified_text = bs_text.decode(\"utf-8-sig\").replace(u\"\\ufffd\", \"?\")\n",
    "    except:\n",
    "        modified_text = bs_text\n",
    "        clean_text = re.sub(combined_pat, '', modified_text)\n",
    "        clean_text = re.sub(www_pat, '', clean_text)\n",
    "        lower_case = clean_text.lower()\n",
    "        no_repeated_letters = re.compile(r\"(.)\\1{2,}\", re.DOTALL).sub(r\"\\1\\1\", lower_case)\n",
    "        letters_only =re.sub(\"[^a-zA-Z'!?.]\",\" \", no_repeated_letters)\n",
    "        return re.sub(r'\\s+', ' ', letters_only).strip()\n",
    "\n",
    "'''clean_tweet_list = []\n",
    "line = tweet.readline()\n",
    "cnt=1\n",
    "print(\"Line {}: {}\".format(cnt, line.strip()))\n",
    "clean_tweet_list.append(clean_tweet(line))\n",
    "while line:\n",
    "    print(\"Line {}: {}\".format(cnt, line.strip()))\n",
    "    line = tweet.readline()\n",
    "    clean_tweet_list.append(clean_tweet(line))\n",
    "    cnt += 1\n",
    "\n",
    "'''\n",
    "'''for n in clean_tweet_list:\n",
    "    print (n)'''\n",
    "'''print(cnt)\n",
    "print(len(clean_tweet_list))'''"
   ]
  },
  {
   "cell_type": "code",
   "execution_count": 7,
   "metadata": {
    "scrolled": false
   },
   "outputs": [],
   "source": [
    "\n",
    "tweet2= open(r\"C:\\Users\\Angrej\\jupiter_files\\positiveTweet_2nd.txt\",'rb')\n",
    "\n",
    "clean_tweet_list2 = []\n",
    "line2 = tweet2.readline()\n",
    "cnt2=1\n",
    "#print(\"Line {}: {}\".format(cnt2, line2.strip()))\n",
    "clean_tweet_list2.append(clean_tweet(line2))\n",
    "while line2:\n",
    "    #print(\"Line {}: {}\".format(cnt, line.strip()))\n",
    "    line2 = tweet2.readline()\n",
    "    clean_tweet_list2.append(clean_tweet(line2))\n",
    "    cnt2 += 1\n",
    "    "
   ]
  },
  {
   "cell_type": "code",
   "execution_count": 6,
   "metadata": {},
   "outputs": [],
   "source": [
    "with open (r\"C:\\Users\\Angrej\\jupiter_files\\cleanTweet_2nd.txt\",\"a\") as txtfile:\n",
    "    for ct in clean_tweet_list2:\n",
    "        txtfile.write(ct +'\\n')"
   ]
  }
 ],
 "metadata": {
  "kernelspec": {
   "display_name": "Python 3",
   "language": "python",
   "name": "python3"
  },
  "language_info": {
   "codemirror_mode": {
    "name": "ipython",
    "version": 3
   },
   "file_extension": ".py",
   "mimetype": "text/x-python",
   "name": "python",
   "nbconvert_exporter": "python",
   "pygments_lexer": "ipython3",
   "version": "3.7.3"
  }
 },
 "nbformat": 4,
 "nbformat_minor": 2
}
