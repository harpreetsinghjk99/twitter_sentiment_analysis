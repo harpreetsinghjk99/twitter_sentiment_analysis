{
 "cells": [
  {
   "cell_type": "code",
   "execution_count": 15,
   "metadata": {},
   "outputs": [
    {
     "name": "stdout",
     "output_type": "stream",
     "text": [
      "          Unnamed: 0  Freq\n",
      "833              the   118\n",
      "977              you    88\n",
      "858               to    81\n",
      "29               and    55\n",
      "832             that    51\n",
      "475             like    49\n",
      "593               on    46\n",
      "554               my    40\n",
      "431               is    40\n",
      "584               of    36\n",
      "44               are    35\n",
      "520               me    34\n",
      "311              for    33\n",
      "308           follow    33\n",
      "105              but    32\n",
      "594              one    30\n",
      "979             your    28\n",
      "432               it    27\n",
      "845             this    27\n",
      "406               if    27\n",
      "598               or    27\n",
      "18               all    26\n",
      "587               ok    25\n",
      "676           really    25\n",
      "373             have    24\n",
      "208               do    24\n",
      "448             know    24\n",
      "436             just    24\n",
      "952             with    23\n",
      "106               by    23\n",
      "..               ...   ...\n",
      "974             yeah    11\n",
      "976        yesterday    10\n",
      "568              new    10\n",
      "16             album    10\n",
      "577              not    10\n",
      "499             made    10\n",
      "349             good    10\n",
      "655       production     9\n",
      "183            debut     9\n",
      "872          trailer     9\n",
      "321              fun     9\n",
      "496             love     9\n",
      "426      interesting     9\n",
      "156  congratulations     9\n",
      "736            share     9\n",
      "840             they     9\n",
      "245            enter     9\n",
      "978            young     9\n",
      "949             wish     9\n",
      "361             guys     9\n",
      "387               hi     9\n",
      "385             here     9\n",
      "822             team     9\n",
      "35            answer     9\n",
      "144            color     8\n",
      "50                as     8\n",
      "812              tag     8\n",
      "578              nov     8\n",
      "516              may     8\n",
      "803          support     8\n",
      "\n",
      "[89 rows x 2 columns]\n"
     ]
    }
   ],
   "source": [
    "import pandas as pd\n",
    "import numpy as np\n",
    "\n",
    "data=pd.read_csv(r'C:\\Users\\Angrej\\jupiter_files\\cleanTweetVectorizeFrequency_2nd.csv')\n",
    "\n",
    "print(data.sort_values(by='Freq',ascending=False).iloc[1:90])"
   ]
  },
  {
   "cell_type": "code",
   "execution_count": null,
   "metadata": {},
   "outputs": [],
   "source": []
  }
 ],
 "metadata": {
  "kernelspec": {
   "display_name": "Python 3",
   "language": "python",
   "name": "python3"
  },
  "language_info": {
   "codemirror_mode": {
    "name": "ipython",
    "version": 3
   },
   "file_extension": ".py",
   "mimetype": "text/x-python",
   "name": "python",
   "nbconvert_exporter": "python",
   "pygments_lexer": "ipython3",
   "version": "3.7.3"
  }
 },
 "nbformat": 4,
 "nbformat_minor": 2
}
