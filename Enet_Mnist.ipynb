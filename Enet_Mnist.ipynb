{
  "nbformat": 4,
  "nbformat_minor": 0,
  "metadata": {
    "colab": {
      "name": "Enet_Mnist.ipynb",
      "provenance": [],
      "authorship_tag": "ABX9TyPYNNCq+98/8EbThRx9UaDw",
      "include_colab_link": true
    },
    "kernelspec": {
      "name": "python3",
      "display_name": "Python 3"
    },
    "accelerator": "GPU"
  },
  "cells": [
    {
      "cell_type": "markdown",
      "metadata": {
        "id": "view-in-github",
        "colab_type": "text"
      },
      "source": [
        "<a href=\"https://colab.research.google.com/github/harpreetsinghjk99/twitter_sentiment_analysis/blob/master/Enet_Mnist.ipynb\" target=\"_parent\"><img src=\"https://colab.research.google.com/assets/colab-badge.svg\" alt=\"Open In Colab\"/></a>"
      ]
    },
    {
      "cell_type": "code",
      "metadata": {
        "id": "FV428S7U9qYA",
        "colab_type": "code",
        "colab": {}
      },
      "source": [
        "import warnings\n",
        "warnings.filterwarnings('ignore')\n",
        "\n",
        "from keras.datasets import mnist\n",
        "import numpy as np\n",
        "import pandas as pd"
      ],
      "execution_count": 2,
      "outputs": []
    },
    {
      "cell_type": "code",
      "metadata": {
        "id": "CV2YhFfLNtKh",
        "colab_type": "code",
        "colab": {}
      },
      "source": [
        "import tensorflow as tf"
      ],
      "execution_count": 52,
      "outputs": []
    },
    {
      "cell_type": "code",
      "metadata": {
        "id": "_KmB7NsQ-0Ik",
        "colab_type": "code",
        "colab": {}
      },
      "source": [
        "from keras.models import Sequential\n",
        "from keras.layers import Dense, Dropout, Flatten \n",
        "from keras.models import Model\n",
        "from keras import optimizers\n",
        "from keras.utils import np_utils\n",
        "import cv2\n",
        "import matplotlib.pyplot as plt\n",
        "%matplotlib inline"
      ],
      "execution_count": 54,
      "outputs": []
    },
    {
      "cell_type": "code",
      "metadata": {
        "id": "0G7H5lXx-Jup",
        "colab_type": "code",
        "colab": {
          "base_uri": "https://localhost:8080/",
          "height": 497
        },
        "outputId": "cba8f8d2-b19f-4992-f114-d2cc1b42546e"
      },
      "source": [
        "!pip install git+https://github.com/qubvel/efficientnet"
      ],
      "execution_count": 3,
      "outputs": [
        {
          "output_type": "stream",
          "text": [
            "Collecting git+https://github.com/qubvel/efficientnet\n",
            "  Cloning https://github.com/qubvel/efficientnet to /tmp/pip-req-build-aa31i4i5\n",
            "  Running command git clone -q https://github.com/qubvel/efficientnet /tmp/pip-req-build-aa31i4i5\n",
            "Collecting keras_applications<=1.0.8,>=1.0.7\n",
            "\u001b[?25l  Downloading https://files.pythonhosted.org/packages/71/e3/19762fdfc62877ae9102edf6342d71b28fbfd9dea3d2f96a882ce099b03f/Keras_Applications-1.0.8-py3-none-any.whl (50kB)\n",
            "\u001b[K     |████████████████████████████████| 51kB 2.7MB/s \n",
            "\u001b[?25hRequirement already satisfied: scikit-image in /usr/local/lib/python3.6/dist-packages (from efficientnet==1.1.0) (0.16.2)\n",
            "Requirement already satisfied: h5py in /usr/local/lib/python3.6/dist-packages (from keras_applications<=1.0.8,>=1.0.7->efficientnet==1.1.0) (2.10.0)\n",
            "Requirement already satisfied: numpy>=1.9.1 in /usr/local/lib/python3.6/dist-packages (from keras_applications<=1.0.8,>=1.0.7->efficientnet==1.1.0) (1.18.5)\n",
            "Requirement already satisfied: matplotlib!=3.0.0,>=2.0.0 in /usr/local/lib/python3.6/dist-packages (from scikit-image->efficientnet==1.1.0) (3.2.2)\n",
            "Requirement already satisfied: pillow>=4.3.0 in /usr/local/lib/python3.6/dist-packages (from scikit-image->efficientnet==1.1.0) (7.0.0)\n",
            "Requirement already satisfied: PyWavelets>=0.4.0 in /usr/local/lib/python3.6/dist-packages (from scikit-image->efficientnet==1.1.0) (1.1.1)\n",
            "Requirement already satisfied: imageio>=2.3.0 in /usr/local/lib/python3.6/dist-packages (from scikit-image->efficientnet==1.1.0) (2.4.1)\n",
            "Requirement already satisfied: networkx>=2.0 in /usr/local/lib/python3.6/dist-packages (from scikit-image->efficientnet==1.1.0) (2.5)\n",
            "Requirement already satisfied: scipy>=0.19.0 in /usr/local/lib/python3.6/dist-packages (from scikit-image->efficientnet==1.1.0) (1.4.1)\n",
            "Requirement already satisfied: six in /usr/local/lib/python3.6/dist-packages (from h5py->keras_applications<=1.0.8,>=1.0.7->efficientnet==1.1.0) (1.15.0)\n",
            "Requirement already satisfied: python-dateutil>=2.1 in /usr/local/lib/python3.6/dist-packages (from matplotlib!=3.0.0,>=2.0.0->scikit-image->efficientnet==1.1.0) (2.8.1)\n",
            "Requirement already satisfied: pyparsing!=2.0.4,!=2.1.2,!=2.1.6,>=2.0.1 in /usr/local/lib/python3.6/dist-packages (from matplotlib!=3.0.0,>=2.0.0->scikit-image->efficientnet==1.1.0) (2.4.7)\n",
            "Requirement already satisfied: cycler>=0.10 in /usr/local/lib/python3.6/dist-packages (from matplotlib!=3.0.0,>=2.0.0->scikit-image->efficientnet==1.1.0) (0.10.0)\n",
            "Requirement already satisfied: kiwisolver>=1.0.1 in /usr/local/lib/python3.6/dist-packages (from matplotlib!=3.0.0,>=2.0.0->scikit-image->efficientnet==1.1.0) (1.2.0)\n",
            "Requirement already satisfied: decorator>=4.3.0 in /usr/local/lib/python3.6/dist-packages (from networkx>=2.0->scikit-image->efficientnet==1.1.0) (4.4.2)\n",
            "Building wheels for collected packages: efficientnet\n",
            "  Building wheel for efficientnet (setup.py) ... \u001b[?25l\u001b[?25hdone\n",
            "  Created wheel for efficientnet: filename=efficientnet-1.1.0-cp36-none-any.whl size=18424 sha256=8bdaf8c6e134e445574b0a8d02410b035e0c137f99713374c2cf4c7e6cf81f06\n",
            "  Stored in directory: /tmp/pip-ephem-wheel-cache-7jtayu8y/wheels/64/60/2e/30ebaa76ed1626e86bfb0cc0579b737fdb7d9ff8cb9522663a\n",
            "Successfully built efficientnet\n",
            "Installing collected packages: keras-applications, efficientnet\n",
            "Successfully installed efficientnet-1.1.0 keras-applications-1.0.8\n"
          ],
          "name": "stdout"
        }
      ]
    },
    {
      "cell_type": "code",
      "metadata": {
        "id": "eIpnu_ye-Pbw",
        "colab_type": "code",
        "colab": {}
      },
      "source": [
        "from efficientnet.keras import EfficientNetB3"
      ],
      "execution_count": 7,
      "outputs": []
    },
    {
      "cell_type": "code",
      "metadata": {
        "id": "GCLARfX_-ZK4",
        "colab_type": "code",
        "colab": {
          "base_uri": "https://localhost:8080/",
          "height": 51
        },
        "outputId": "69d7a96e-09dd-4d51-8179-6d3a0de7c41c"
      },
      "source": [
        "(X_train, Y_train), (X_test, Y_test) = mnist.load_data()"
      ],
      "execution_count": 8,
      "outputs": [
        {
          "output_type": "stream",
          "text": [
            "Downloading data from https://storage.googleapis.com/tensorflow/tf-keras-datasets/mnist.npz\n",
            "11493376/11490434 [==============================] - 0s 0us/step\n"
          ],
          "name": "stdout"
        }
      ]
    },
    {
      "cell_type": "code",
      "metadata": {
        "id": "VgqVsBl__vwp",
        "colab_type": "code",
        "colab": {
          "base_uri": "https://localhost:8080/",
          "height": 34
        },
        "outputId": "a1b15576-3c53-4305-95de-f9af674b6975"
      },
      "source": [
        "X_train.shape, X_test.shape, Y_test.shape, Y_train.shape"
      ],
      "execution_count": 10,
      "outputs": [
        {
          "output_type": "execute_result",
          "data": {
            "text/plain": [
              "((60000, 28, 28), (10000, 28, 28), (10000,), (60000,))"
            ]
          },
          "metadata": {
            "tags": []
          },
          "execution_count": 10
        }
      ]
    },
    {
      "cell_type": "code",
      "metadata": {
        "id": "II2sJpP4_4xN",
        "colab_type": "code",
        "colab": {}
      },
      "source": [
        "X_train = X_train.astype('float32')\n",
        "X_test = X_test.astype('float32')\n",
        "\n",
        "X_train = X_train/255\n",
        "X_test = X_test/255"
      ],
      "execution_count": 13,
      "outputs": []
    },
    {
      "cell_type": "code",
      "metadata": {
        "id": "GDsaPTgWAvjP",
        "colab_type": "code",
        "colab": {}
      },
      "source": [
        "X_train = X_train.reshape(-1,28,28,1)\n",
        "X_test = X_test.reshape(-1,28,28,1)"
      ],
      "execution_count": 15,
      "outputs": []
    },
    {
      "cell_type": "code",
      "metadata": {
        "id": "2eb6x_2CBGmW",
        "colab_type": "code",
        "colab": {
          "base_uri": "https://localhost:8080/",
          "height": 34
        },
        "outputId": "27424596-a6e3-4808-afde-519d642f3f2b"
      },
      "source": [
        "X_train.shape, X_test.shape, Y_test.shape, Y_train.shape"
      ],
      "execution_count": 16,
      "outputs": [
        {
          "output_type": "execute_result",
          "data": {
            "text/plain": [
              "((60000, 28, 28, 1), (10000, 28, 28, 1), (10000,), (60000,))"
            ]
          },
          "metadata": {
            "tags": []
          },
          "execution_count": 16
        }
      ]
    },
    {
      "cell_type": "code",
      "metadata": {
        "id": "2oGGJH0pBHGt",
        "colab_type": "code",
        "colab": {}
      },
      "source": [
        "X_train3 = np.full((60000, 28, 28, 3), 0.0)\n",
        "\n",
        "for i, s in enumerate(X_train):\n",
        "    X_train3[i] = cv2.cvtColor(s, cv2.COLOR_GRAY2RGB) \n",
        "    "
      ],
      "execution_count": 17,
      "outputs": []
    },
    {
      "cell_type": "code",
      "metadata": {
        "id": "jR3E3JDcBdLC",
        "colab_type": "code",
        "colab": {
          "base_uri": "https://localhost:8080/",
          "height": 265
        },
        "outputId": "6c06b7a1-b8c1-4b12-93d2-eeb5d113cc0f"
      },
      "source": [
        "g = plt.imshow(X_train3[0])"
      ],
      "execution_count": 20,
      "outputs": [
        {
          "output_type": "display_data",
          "data": {
            "image/png": "[encoded data removed]",
            "text/plain": [
              "<Figure size 432x288 with 1 Axes>"
            ]
          },
          "metadata": {
            "tags": [],
            "needs_background": "light"
          }
        }
      ]
    },
    {
      "cell_type": "code",
      "metadata": {
        "id": "4k7P2Lj9Bd7q",
        "colab_type": "code",
        "colab": {}
      },
      "source": [
        "X_test3 = np.full((10000, 28, 28, 3), 0.0)\n",
        "\n",
        "for i, s in enumerate(X_test):\n",
        "    X_test3[i] = cv2.cvtColor(s, cv2.COLOR_GRAY2RGB) "
      ],
      "execution_count": 23,
      "outputs": []
    },
    {
      "cell_type": "code",
      "metadata": {
        "id": "RGsIk3RSB1td",
        "colab_type": "code",
        "colab": {
          "base_uri": "https://localhost:8080/",
          "height": 265
        },
        "outputId": "e5f21491-f06c-40a5-c8ca-3195051db06b"
      },
      "source": [
        "g = plt.imshow(X_test3[0])"
      ],
      "execution_count": 24,
      "outputs": [
        {
          "output_type": "display_data",
          "data": {
            "image/png": "[encoded data removed]",
            "text/plain": [
              "<Figure size 432x288 with 1 Axes>"
            ]
          },
          "metadata": {
            "tags": [],
            "needs_background": "light"
          }
        }
      ]
    },
    {
      "cell_type": "code",
      "metadata": {
        "id": "bkJPP27FCDPM",
        "colab_type": "code",
        "colab": {}
      },
      "source": [
        "Y_train = np_utils.to_categorical(Y_train, 10)\n",
        "Y_test = np_utils.to_categorical(Y_test, 10)"
      ],
      "execution_count": 25,
      "outputs": []
    },
    {
      "cell_type": "code",
      "metadata": {
        "id": "tGmLTHz7HI6D",
        "colab_type": "code",
        "colab": {}
      },
      "source": [
        "X_test2=np.zeros((X_test.shape[0],32,32,3), dtype='float32')\n",
        "X_train2=np.zeros((X_train.shape[0],32,32,3), dtype='float32')"
      ],
      "execution_count": 45,
      "outputs": []
    },
    {
      "cell_type": "markdown",
      "metadata": {
        "id": "j-Vc_LXOTODv",
        "colab_type": "text"
      },
      "source": [
        "the next step will take arround 5 min (we can look for better options\n",
        "this is done to convert 28x28x3 image to 32x32x3 image as the pretrained model min required 32x32 image"
      ]
    },
    {
      "cell_type": "code",
      "metadata": {
        "id": "5F3XwHTFIWEV",
        "colab_type": "code",
        "colab": {}
      },
      "source": [
        "for i in range(0,X_test2.shape[0]):\n",
        "  for r in range(0,X_test2.shape[1]-4):\n",
        "    for c in range(0,X_test2.shape[2]-4):\n",
        "      for rgb in range(0,X_test2.shape[3]):\n",
        "        X_test2[i][r][c][rgb]= X_test3[i][r][c][rgb]\n",
        "for i in range(0,X_train2.shape[0]):\n",
        "  for r in range(0,X_train2.shape[1]-4):\n",
        "    for c in range(0,X_train2.shape[2]-4):\n",
        "      for rgb in range(0,X_train2.shape[3]):\n",
        "        X_train2[i][r][c][rgb]= X_train3[i][r][c][rgb]"
      ],
      "execution_count": 47,
      "outputs": []
    },
    {
      "cell_type": "code",
      "metadata": {
        "id": "39zHTOnNJ9HX",
        "colab_type": "code",
        "colab": {
          "base_uri": "https://localhost:8080/",
          "height": 266
        },
        "outputId": "6878127b-4852-428d-8c3f-3c13cc9b6f42"
      },
      "source": [
        "g = plt.imshow(X_test2[0])"
      ],
      "execution_count": 48,
      "outputs": [
        {
          "output_type": "display_data",
          "data": {
            "image/png": "[encoded data removed]",
            "text/plain": [
              "<Figure size 432x288 with 1 Axes>"
            ]
          },
          "metadata": {
            "tags": [],
            "needs_background": "light"
          }
        }
      ]
    },
    {
      "cell_type": "code",
      "metadata": {
        "id": "sJNq8E8uCTf1",
        "colab_type": "code",
        "colab": {
          "base_uri": "https://localhost:8080/",
          "height": 51
        },
        "outputId": "82641e8b-ff2c-44cc-f12a-5de0b9eeacdc"
      },
      "source": [
        "model = EfficientNetB3(weights='imagenet', input_shape = (32,32,3), include_top=False)"
      ],
      "execution_count": 49,
      "outputs": [
        {
          "output_type": "stream",
          "text": [
            "Downloading data from https://github.com/Callidior/keras-applications/releases/download/efficientnet/efficientnet-b3_weights_tf_dim_ordering_tf_kernels_autoaugment_notop.h5\n",
            "44113920/44107200 [==============================] - 1s 0us/step\n"
          ],
          "name": "stdout"
        }
      ]
    },
    {
      "cell_type": "code",
      "metadata": {
        "id": "0XKuG8loNIJ_",
        "colab_type": "code",
        "colab": {}
      },
      "source": [
        "model.trainable = False"
      ],
      "execution_count": 50,
      "outputs": []
    },
    {
      "cell_type": "code",
      "metadata": {
        "id": "IkIxAvOYNI4J",
        "colab_type": "code",
        "colab": {}
      },
      "source": [
        "x = model.output\n",
        "x = Flatten()(x)\n",
        "x = Dense(1024, activation=\"relu\")(x)\n",
        "x = Dropout(0.5)(x)\n",
        "predictions = Dense(units = 10, activation=\"softmax\")(x)\n",
        "model_f = Model(model.input, predictions)\n",
        "model_f.compile(optimizers.RMSprop(lr=0.0001, decay=1e-6),loss='categorical_crossentropy',metrics=['accuracy'])"
      ],
      "execution_count": 56,
      "outputs": []
    },
    {
      "cell_type": "code",
      "metadata": {
        "id": "EldjfxLsNMch",
        "colab_type": "code",
        "colab": {
          "base_uri": "https://localhost:8080/",
          "height": 360
        },
        "outputId": "7fc68cc0-375e-4094-9ca6-760db15f710b"
      },
      "source": [
        "# Train model\n",
        "history = model_f.fit(X_train2, Y_train,\n",
        "              epochs=10,\n",
        "              batch_size = 128,\n",
        "              validation_split=0.1,\n",
        "              shuffle=True,\n",
        "              verbose=2)"
      ],
      "execution_count": 57,
      "outputs": [
        {
          "output_type": "stream",
          "text": [
            "Epoch 1/10\n",
            "422/422 - 13s - loss: 2.0344 - accuracy: 0.3014 - val_loss: 1.6914 - val_accuracy: 0.5517\n",
            "Epoch 2/10\n",
            "422/422 - 11s - loss: 1.6813 - accuracy: 0.4328 - val_loss: 1.3895 - val_accuracy: 0.5993\n",
            "Epoch 3/10\n",
            "422/422 - 11s - loss: 1.4939 - accuracy: 0.4915 - val_loss: 1.2104 - val_accuracy: 0.7020\n",
            "Epoch 4/10\n",
            "422/422 - 11s - loss: 1.3684 - accuracy: 0.5352 - val_loss: 1.0993 - val_accuracy: 0.6982\n",
            "Epoch 5/10\n",
            "422/422 - 11s - loss: 1.2853 - accuracy: 0.5635 - val_loss: 1.0234 - val_accuracy: 0.7053\n",
            "Epoch 6/10\n",
            "422/422 - 11s - loss: 1.2140 - accuracy: 0.5891 - val_loss: 0.9738 - val_accuracy: 0.7100\n",
            "Epoch 7/10\n",
            "422/422 - 11s - loss: 1.1660 - accuracy: 0.6015 - val_loss: 0.9141 - val_accuracy: 0.7158\n",
            "Epoch 8/10\n",
            "422/422 - 11s - loss: 1.1220 - accuracy: 0.6196 - val_loss: 0.8266 - val_accuracy: 0.7753\n",
            "Epoch 9/10\n",
            "422/422 - 11s - loss: 1.0863 - accuracy: 0.6305 - val_loss: 0.8124 - val_accuracy: 0.7690\n",
            "Epoch 10/10\n",
            "422/422 - 11s - loss: 1.0554 - accuracy: 0.6378 - val_loss: 0.7730 - val_accuracy: 0.7842\n"
          ],
          "name": "stdout"
        }
      ]
    },
    {
      "cell_type": "code",
      "metadata": {
        "id": "bm8gduIDPXKe",
        "colab_type": "code",
        "colab": {
          "base_uri": "https://localhost:8080/",
          "height": 282
        },
        "outputId": "3af47524-4f91-4016-9746-19d3e26aa71d"
      },
      "source": [
        "history_df = pd.DataFrame(history.history)\n",
        "history_df[['loss', 'val_loss']].plot()"
      ],
      "execution_count": 60,
      "outputs": [
        {
          "output_type": "execute_result",
          "data": {
            "text/plain": [
              "<matplotlib.axes._subplots.AxesSubplot at 0x7f8cb2243b38>"
            ]
          },
          "metadata": {
            "tags": []
          },
          "execution_count": 60
        },
        {
          "output_type": "display_data",
          "data": {
            "image/png": "[encoded data removed]",
            "text/plain": [
              "<Figure size 432x288 with 1 Axes>"
            ]
          },
          "metadata": {
            "tags": [],
            "needs_background": "light"
          }
        }
      ]
    },
    {
      "cell_type": "code",
      "metadata": {
        "id": "s-q6s7VGPXqE",
        "colab_type": "code",
        "colab": {
          "base_uri": "https://localhost:8080/",
          "height": 281
        },
        "outputId": "092484a2-1abe-493e-d70a-473a555320c1"
      },
      "source": [
        "import matplotlib.pyplot as plt\n",
        "#plt.rcParams['figure.figsize'] = [20,10]\n",
        "i=0\n",
        "x=list(history.history.keys())\n",
        "for key in history.history.keys():\n",
        "  if  key==x[1] or key==x[3]:\n",
        "    plt.plot(range(1, 10+1), history.history[key])\n",
        "#plt.axis([0, 200, 0, 2])\n",
        "plt.legend((x[1],x[3]), loc='upper right')\n",
        "plt.title(x[1]+'/'+x[3]+' vs Epochs')\n",
        "plt.show()"
      ],
      "execution_count": 59,
      "outputs": [
        {
          "output_type": "display_data",
          "data": {
            "image/png": "[encoded data removed]",
            "text/plain": [
              "<Figure size 432x288 with 1 Axes>"
            ]
          },
          "metadata": {
            "tags": [],
            "needs_background": "light"
          }
        }
      ]
    }
  ]
}